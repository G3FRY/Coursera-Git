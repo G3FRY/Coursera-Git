{
 "cells": [
  {
   "cell_type": "markdown",
   "metadata": {},
   "source": [
    "# Git Resources\n",
    "\n",
    "Here are some git resources:\n",
    "\n",
    "* https://git-scm.com/book/en/v2\n",
    "* https://git-scm.com/docs/gittutorial"
   ]
  },
  {
   "cell_type": "markdown",
   "metadata": {},
   "source": [
    "# Diffing Files\n",
    "\n",
    "To check the differences between two files we can use the `diff` command in Linux, also if the output is confusing, we can add the `-u` flag.\n",
    "\n",
    "* diff [file1] [file2]\n",
    "* diff -u [file1] [file2]\n",
    "\n",
    "There are other tools to diff files:\n",
    "\n",
    "* wdiff (check word differences instead of lines)\n",
    "* meld\n",
    "* KFiff3\n",
    "* vimdif\n",
    "\n",
    "Also, VS Code has the tool to compare files"
   ]
  }
 ],
 "metadata": {
  "kernelspec": {
   "display_name": "Python 3.10.7 64-bit",
   "language": "python",
   "name": "python3"
  },
  "language_info": {
   "name": "python",
   "version": "3.10.7"
  },
  "orig_nbformat": 4,
  "vscode": {
   "interpreter": {
    "hash": "bf1a6956d466141fab8999941934f9d52ce7bb51fdf7ea0871f64fcfb95b853c"
   }
  }
 },
 "nbformat": 4,
 "nbformat_minor": 2
}
