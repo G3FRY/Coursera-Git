{
 "cells": [
  {
   "cell_type": "markdown",
   "metadata": {},
   "source": [
    "# Git Resources\n",
    "\n",
    "Here are some git resources:\n",
    "\n",
    "* https://git-scm.com/book/en/v2\n",
    "* https://git-scm.com/docs/gittutorial"
   ]
  },
  {
   "cell_type": "markdown",
   "metadata": {},
   "source": [
    "# Diffing Files\n",
    "\n",
    "To check the differences between two files we can use the `diff` command in Linux, also if the output is confusing, we can add the `-u` flag.\n",
    "\n",
    "* diff [file1] [file2]\n",
    "* diff -u [file1] [file2]\n",
    "\n",
    "There are other tools to diff files:\n",
    "\n",
    "* wdiff (check word differences instead of lines)\n",
    "* meld\n",
    "* KFiff3\n",
    "* vimdif\n",
    "\n",
    "Also, VS Code has the tool to compare files"
   ]
  },
  {
   "cell_type": "markdown",
   "metadata": {},
   "source": []
  }
 ],
 "metadata": {
  "kernelspec": {
   "display_name": "Python 3.9.2 64-bit",
   "language": "python",
   "name": "python3"
  },
  "language_info": {
   "name": "python",
   "version": "3.9.2"
  },
  "orig_nbformat": 4,
  "vscode": {
   "interpreter": {
    "hash": "b3c4db929531b659fdf648c720fbbaaf9e55e1b9805d10aedc2b762f89386134"
   }
  }
 },
 "nbformat": 4,
 "nbformat_minor": 2
}
