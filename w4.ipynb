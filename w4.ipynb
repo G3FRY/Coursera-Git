{
 "cells": [
  {
   "cell_type": "markdown",
   "metadata": {},
   "source": [
    "# Useful links about code review\n",
    "\n",
    "* http://google.github.io/styleguide/\n",
    "* https://help.github.com/en/articles/about-pull-request-reviews\n",
    "* https://medium.com/osedea/the-perfect-code-review-process-845e6ba5c31\n",
    "* https://smartbear.com/learn/code-review/what-is-code-review/"
   ]
  },
  {
   "cell_type": "markdown",
   "metadata": {},
   "source": [
    "# Artifacts\n",
    "\n",
    "The name used to describe any files that are generated as part of the pipeline."
   ]
  },
  {
   "cell_type": "markdown",
   "metadata": {},
   "source": [
    "# Additional Tools\n",
    "\n",
    "* https://arp242.net/diy.html \n",
    "* https://help.github.com/en/articles/closing-issues-using-keywords\n",
    "* https://help.github.com/en/articles/setting-guidelines-for-repository-contributors \n",
    "* https://www.infoworld.com/article/3271126/what-is-cicd-continuous-integration-and-continuous-delivery-explained.html\n",
    "* https://stackify.com/what-is-cicd-whats-important-and-how-to-get-it-right/\n",
    "* https://docs.travis-ci.com/user/tutorial/\n",
    "* https://docs.travis-ci.com/user/build-stages/"
   ]
  }
 ],
 "metadata": {
  "kernelspec": {
   "display_name": "Python 3.10.7 64-bit",
   "language": "python",
   "name": "python3"
  },
  "language_info": {
   "name": "python",
   "version": "3.10.7"
  },
  "orig_nbformat": 4,
  "vscode": {
   "interpreter": {
    "hash": "bf1a6956d466141fab8999941934f9d52ce7bb51fdf7ea0871f64fcfb95b853c"
   }
  }
 },
 "nbformat": 4,
 "nbformat_minor": 2
}
