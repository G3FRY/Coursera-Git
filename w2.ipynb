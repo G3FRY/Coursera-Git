{
 "cells": [
  {
   "cell_type": "markdown",
   "metadata": {},
   "source": [
    "# Git Interaction\n",
    "\n",
    "## Adding files to the staging area\n",
    "\n",
    "* `git add [filename]`\n",
    "* `git add --all`\n",
    "* `git add *`\n",
    "\n",
    "## Skipping the stagin area\n",
    "We can skip the stagin area and do a commit of all the **tracked** files. New files can't be skipped. We use the next command to skip the staging:\n",
    "* `git commit -a`"
   ]
  },
  {
   "cell_type": "markdown",
   "metadata": {},
   "source": [
    "## Getting more information about our Changes\n",
    "\n",
    "We can use the -p flag to see the added an deleted lines in files\n",
    "* `git log -p`\n",
    "\n",
    "To see how many lines changed we can use the --stat\n",
    "* `git log --stat`\n",
    "\n",
    "To check the details of a specific commit by ID\n",
    "* `git show [commit id]`\n",
    "\n",
    "To see all our changes (Unstaged)\n",
    "* `git diff`\n",
    "* `git diff --staged` (to see staged changes)\n",
    "\n",
    "We can see all the changes and tell git to ask us confirmation\n",
    "* `git add -p`"
   ]
  },
  {
   "cell_type": "markdown",
   "metadata": {},
   "source": [
    "## Deleting or Renaming Files\n",
    "\n",
    "Deleting files\n",
    "* `git rm [filee]`\n",
    "\n",
    "Renamimng files\n",
    "* `git mv [suorce filename] [destination filename]`\n",
    "\n",
    "Check the Git_Cheat_Sheet.pdf file for basic Git tips"
   ]
  },
  {
   "cell_type": "markdown",
   "metadata": {},
   "source": [
    "# Undoing Things\n",
    "\n",
    "## Undoing changes before commiting\n",
    "\n",
    "### unstaged changes\n",
    "We can 'checkout' the previous snapshot of a file using the command:\n",
    "* `git checkout [file to restore]` // here we are retrieveing the commited version of the file, therefore, changes made are discarded\n",
    "* `git checkout -p [file to restore]` // Allow us to select what changes we want to keep\n",
    "\n",
    "### staged changes\n",
    "Once the files are in the staging area we can revert those changes using the command:\n",
    "* `git reset HEAD [file name]` // will remove the file from the stagin area\n",
    "* `git reset -p HEAD [file name]` // will ask for changes we want to keep\n",
    "\n",
    "## Amending Commits\n",
    "\n",
    "We can use the --amend flag to fix the commit message and include any additional missing files for that commit. The files we forgot should be in the stagin area so they can be includen in the commit. Tip: don't use ammend to fix an already public commit\n",
    "* `git commit --amend` \n",
    "\n",
    "## Rollbacks\n",
    "In the case a commit produces failures it is important to rollback. We can add a new commit in which the changes are reversed.\n",
    "* `git revert HEAD` // here we are telling git to reverse the changes of the las working commit.\n",
    "\n",
    "We can check the details of the last two commits using the command:\n",
    "* `git log -p -2` // using the -p patch flag\n",
    "\n",
    "We can also do a revert to an existing commit using the commit id\n",
    "* `git revert [commit id]`"
   ]
  },
  {
   "cell_type": "markdown",
   "metadata": {},
   "source": [
    "# Branching and Merging\n",
    "\n",
    "## Creating new Branches and deleting branches\n",
    "\n",
    "Check current branch\n",
    "* `git branch`\n",
    "\n",
    "Create a new branch\n",
    "* `git branch [branch name]`\n",
    "\n",
    "Switch to a branch\n",
    "* `git checkout [branch name]`\n",
    "* `git switch [branch name]`\n",
    "\n",
    "Create a new branch and switch to it\n",
    "* `git checkout -b [branch name]`\n",
    "\n",
    "Delete branch\n",
    "* `git branch -d`\n",
    "\n",
    "## Merging\n",
    "\n",
    "We must sit on the branch we want to receive changes\n",
    "* `git merge [branch name]` // here we use the name of the branch whose changes we need to combine\n",
    "\n",
    "If during a merge we need to cancel it we can use the command\n",
    "* `git merge --abort`\n",
    "\n",
    "We can check a resumed graph using\n",
    "* `git log --graph --oneline`\n",
    "\n"
   ]
  },
  {
   "cell_type": "markdown",
   "metadata": {},
   "source": []
  }
 ],
 "metadata": {
  "kernelspec": {
   "display_name": "Python 3.10.7 64-bit",
   "language": "python",
   "name": "python3"
  },
  "language_info": {
   "name": "python",
   "version": "3.10.7"
  },
  "orig_nbformat": 4,
  "vscode": {
   "interpreter": {
    "hash": "bf1a6956d466141fab8999941934f9d52ce7bb51fdf7ea0871f64fcfb95b853c"
   }
  }
 },
 "nbformat": 4,
 "nbformat_minor": 2
}
