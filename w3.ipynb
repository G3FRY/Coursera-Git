{
 "cells": [
  {
   "cell_type": "markdown",
   "metadata": {},
   "source": [
    "# Working with remotes\n",
    "\n",
    "We can check the URLs used to push and fetch with the next command\n",
    "* `git remote -v`\n",
    "\n",
    "Also if we need more information about the remote we can run\n",
    "* `git remote show origin`\n",
    "\n",
    "Checking for remote created branches\n",
    "* `git branch -r`"
   ]
  },
  {
   "cell_type": "markdown",
   "metadata": {},
   "source": [
    "# Fetching changes\n",
    "\n",
    "To bring the changes done in the remote repository, we need to fetch those changes\n",
    "* `git fetch`\n",
    "\n",
    "Git fetch doesn't merge the changes automatically, to do so we need to merge manually\n",
    "\n",
    "We can check the log of a remote branch\n",
    "* `git log origin/master`\n",
    "\n",
    "If our branch in our local repository is behind the remote branch, we can merge the changes to keep our local up to date\n",
    "* `git merge origin/master` // in this case we merged the remote master into the local master branch\n",
    "\n",
    "The previous command is done in case we need to check the changes that occured in the remote branch. In case we need to merge the changes automatically\n",
    "we can use the `pull` command\n",
    "* `git pull`\n",
    "\n",
    "Here is a list of useful commands:\n",
    "\n",
    "| Command | Explanation & Links |\n",
    "|---------|---------------------|\n",
    "|git remote | Lists remote repos |\n",
    "|git remote -v | List remote repos verbosely |\n",
    "|git remote show <name> | Describes a single remote repo |\n",
    "|git remote update | Fetches the most up-to-date objects |\n",
    "|git fetch | Downloads specific objects |\n",
    "|git branch -r | Lists remote branches; can be combined with other branch arguments to manage remote branches |"
   ]
  }
 ],
 "metadata": {
  "kernelspec": {
   "display_name": "Python 3.10.7 64-bit",
   "language": "python",
   "name": "python3"
  },
  "language_info": {
   "name": "python",
   "version": "3.10.7"
  },
  "orig_nbformat": 4,
  "vscode": {
   "interpreter": {
    "hash": "bf1a6956d466141fab8999941934f9d52ce7bb51fdf7ea0871f64fcfb95b853c"
   }
  }
 },
 "nbformat": 4,
 "nbformat_minor": 2
}
